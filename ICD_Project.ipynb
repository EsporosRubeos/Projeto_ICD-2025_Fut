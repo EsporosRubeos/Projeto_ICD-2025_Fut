{
 "cells": [
  {
   "cell_type": "markdown",
   "metadata": {},
   "source": [
    "# Webscrape data\n"
   ]
  },
  {
   "cell_type": "code",
   "execution_count": 10,
   "metadata": {},
   "outputs": [],
   "source": [
    "import pandas as pd\n",
    "import os"
   ]
  },
  {
   "cell_type": "code",
   "execution_count": 11,
   "metadata": {},
   "outputs": [],
   "source": [
    "# Fetch all tables from the webpage\n",
    "os.makedirs('data', exist_ok=True)\n",
    "for page in range(11):\n",
    "    \n",
    "    url = f\"https://fbref.com/en/comps/24/{2024 - page}/{2024 - page}-Serie-A-Stats\"\n",
    "    tables = pd.read_html(url)\n",
    "    \n",
    "    # Convert each table to a DataFrame\n",
    "    dfs = {f\"df_{2024 - page}_{i+1}\": table for i, table in enumerate(tables)}\n",
    "\n",
    "    for name, df in dfs.items():\n",
    "        df.to_csv(f\"data/{name}.csv\", index=False)\n"
   ]
  },
  {
   "cell_type": "code",
   "execution_count": null,
   "metadata": {},
   "outputs": [],
   "source": []
  },
  {
   "cell_type": "code",
   "execution_count": null,
   "metadata": {},
   "outputs": [],
   "source": []
  }
 ],
 "metadata": {
  "kernelspec": {
   "display_name": "NLP",
   "language": "python",
   "name": "python3"
  },
  "language_info": {
   "codemirror_mode": {
    "name": "ipython",
    "version": 3
   },
   "file_extension": ".py",
   "mimetype": "text/x-python",
   "name": "python",
   "nbconvert_exporter": "python",
   "pygments_lexer": "ipython3",
   "version": "3.11.5"
  }
 },
 "nbformat": 4,
 "nbformat_minor": 2
}
