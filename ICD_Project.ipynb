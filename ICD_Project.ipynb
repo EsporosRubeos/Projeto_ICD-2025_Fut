{
 "cells": [
  {
   "cell_type": "markdown",
   "metadata": {},
   "source": [
    "# Webscrape data\n"
   ]
  },
  {
   "cell_type": "code",
   "execution_count": 11,
   "metadata": {},
   "outputs": [],
   "source": [
    "import pandas as pd\n",
    "import os"
   ]
  },
  {
   "cell_type": "markdown",
   "metadata": {},
   "source": [
    "### Naming convention for the tables"
   ]
  },
  {
   "cell_type": "code",
   "execution_count": 12,
   "metadata": {},
   "outputs": [],
   "source": [
    "titles_12 = [\n",
    "    'serie_A_overall',\n",
    "    'serie_A_homeaway',\n",
    "    'squad_standard_stats',\n",
    "    'squad_standard_stats_opp',\n",
    "    'squad_goalkeeping',\n",
    "    'squad_goalkeeping_opp',\n",
    "    'squad_advanced_goalkeeping',\n",
    "    'squad_advanced_goalkeeping_opp',\n",
    "    'squad_shooting',\n",
    "    'squad_shooting_opp',\n",
    "    'squad_passing',\n",
    "    'squad_passing_opp',\n",
    "    'squad_pass_types',\n",
    "    'squad_pass_types_opp',\n",
    "    'squad_goal_shot_creation',\n",
    "    'squad_goal_shot_creation_opp',\n",
    "    'squad_defensive_actions',\n",
    "    'squad_defensive_actions_opp',\n",
    "    'squad_possession',\n",
    "    'squad_possession_opp',\n",
    "    'squad_playing_time',\n",
    "    'squad_playing_time_opp',\n",
    "    'squad_miscellaneous',\n",
    "    'squad_miscellaneous_opp',\n",
    "]\n",
    "\n",
    "titles_6 = titles_12[:6] + titles_12[8:10] + titles_12[20:]\n",
    "\n",
    "titles_5 = titles_6[:6] + titles_6[8:]"
   ]
  },
  {
   "cell_type": "markdown",
   "metadata": {},
   "source": [
    "### Acquire the data"
   ]
  },
  {
   "cell_type": "code",
   "execution_count": 13,
   "metadata": {},
   "outputs": [],
   "source": [
    "# Fetch all tables from the webpage\n",
    "os.makedirs('data', exist_ok=True)\n",
    "for page in range(11):\n",
    "    \n",
    "    url = f\"https://fbref.com/en/comps/24/{2024 - page}/{2024 - page}-Serie-A-Stats\"\n",
    "    tables = pd.read_html(url)\n",
    "    year = 2024 - page\n",
    "    \n",
    "    # Convert each table to a DataFrame\n",
    "    if year > 2018:\n",
    "        dfs = {f\"{titles_12[i]}_{year}\": table for i, table in enumerate(tables)}\n",
    "    \n",
    "    elif year > 2015:\n",
    "        dfs = {f\"{titles_6[i]}_{year}\": table for i, table in enumerate(tables)}\n",
    "    \n",
    "    else:\n",
    "        dfs = {f\"{titles_5[i]}_{year}\": table for i, table in enumerate(tables)}\n",
    "    \n",
    "    for name, df in dfs.items():\n",
    "        df.to_csv(f\"data/{name}.csv\", index=False)\n"
   ]
  },
  {
   "cell_type": "code",
   "execution_count": null,
   "metadata": {},
   "outputs": [],
   "source": []
  }
 ],
 "metadata": {
  "kernelspec": {
   "display_name": "NLP",
   "language": "python",
   "name": "python3"
  },
  "language_info": {
   "codemirror_mode": {
    "name": "ipython",
    "version": 3
   },
   "file_extension": ".py",
   "mimetype": "text/x-python",
   "name": "python",
   "nbconvert_exporter": "python",
   "pygments_lexer": "ipython3",
   "version": "3.11.5"
  }
 },
 "nbformat": 4,
 "nbformat_minor": 2
}
