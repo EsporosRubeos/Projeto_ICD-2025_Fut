{
 "cells": [
  {
   "cell_type": "code",
   "execution_count": 2,
   "id": "9cc9d765",
   "metadata": {},
   "outputs": [],
   "source": [
    "from webscrape import get_all_stats, get_clubs_stats"
   ]
  },
  {
   "cell_type": "code",
   "execution_count": 5,
   "id": "aaec4e6e-2ac6-4b45-8b3c-32e6e894a6c7",
   "metadata": {},
   "outputs": [
    {
     "data": {
      "text/plain": [
       "dict_keys(['squad_shooting_2024', 'squad_shooting_2023', 'squad_shooting_2022', 'squad_shooting_2021', 'squad_shooting_2020', 'squad_shooting_2019', 'squad_shooting_2018', 'squad_shooting_2017', 'squad_shooting_2016'])"
      ]
     },
     "execution_count": 5,
     "metadata": {},
     "output_type": "execute_result"
    }
   ],
   "source": [
    "stats = get_all_stats(['squad_shooting']) #Para recuperar dados das tabelas passadas como parâmetro, \n",
    "                                          #retorna todos os anos para cada tabela selecionada\n",
    "\n",
    "stats.keys()"
   ]
  },
  {
   "cell_type": "code",
   "execution_count": null,
   "id": "02b17b39-2aff-4cd5-9769-9ebed4349b4d",
   "metadata": {},
   "outputs": [],
   "source": [
    "df = stats['squad_shooting_2024']\n",
    "df.columns = df.columns.get_level_values(-1) #Tratamento para tirar primeiro nível de cabeçalho (Unnamed: 2_level_0, performance, etc)\n",
    "\n",
    "df"
   ]
  },
  {
   "cell_type": "code",
   "execution_count": null,
   "id": "538459f0-aca2-433c-9ec9-858a13dcd8be",
   "metadata": {},
   "outputs": [],
   "source": [
    "clubs = get_clubs_stats(['Flamengo']) #Para recuperar dados dos times passados como parâmetro\n",
    "clubs['Flamengo'][2024][0]"
   ]
  }
 ],
 "metadata": {
  "kernelspec": {
   "display_name": "Python 3 (ipykernel)",
   "language": "python",
   "name": "python3"
  },
  "language_info": {
   "codemirror_mode": {
    "name": "ipython",
    "version": 3
   },
   "file_extension": ".py",
   "mimetype": "text/x-python",
   "name": "python",
   "nbconvert_exporter": "python",
   "pygments_lexer": "ipython3",
   "version": "3.10.12"
  }
 },
 "nbformat": 4,
 "nbformat_minor": 5
}
